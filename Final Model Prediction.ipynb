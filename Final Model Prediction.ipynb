{
 "cells": [
  {
   "cell_type": "code",
   "execution_count": 1,
   "metadata": {},
   "outputs": [],
   "source": [
    "import pandas as pd\n",
    "import numpy as np\n",
    "from sklearn.preprocessing import Imputer\n",
    "from sklearn import preprocessing\n",
    "from sklearn.model_selection import train_test_split\n",
    "from sklearn.naive_bayes import GaussianNB\n",
    "from sklearn.metrics import accuracy_score"
   ]
  },
  {
   "cell_type": "code",
   "execution_count": 46,
   "metadata": {},
   "outputs": [],
   "source": [
    "lu = pd.read_csv('Tom')"
   ]
  },
  {
   "cell_type": "code",
   "execution_count": null,
   "metadata": {},
   "outputs": [],
   "source": []
  },
  {
   "cell_type": "code",
   "execution_count": 4,
   "metadata": {},
   "outputs": [],
   "source": [
    "lu.drop(lu[lu['avg_score'] == -1].index, inplace = True) "
   ]
  },
  {
   "cell_type": "code",
   "execution_count": null,
   "metadata": {},
   "outputs": [],
   "source": []
  },
  {
   "cell_type": "code",
   "execution_count": 47,
   "metadata": {},
   "outputs": [],
   "source": [
    "lu.drop(lu[lu['number_of_tweet'] < 400].index, inplace = True) "
   ]
  },
  {
   "cell_type": "code",
   "execution_count": 48,
   "metadata": {},
   "outputs": [
    {
     "name": "stdout",
     "output_type": "stream",
     "text": [
      "<class 'pandas.core.frame.DataFrame'>\n",
      "Int64Index: 76 entries, 1 to 1831\n",
      "Data columns (total 11 columns):\n",
      "Unnamed: 0         76 non-null int64\n",
      "date               76 non-null object\n",
      "Unnamed: 0.1       76 non-null int64\n",
      "name               76 non-null object\n",
      "tweets             76 non-null object\n",
      "prices             76 non-null float64\n",
      "tweet_lists        76 non-null object\n",
      "word_lists         76 non-null object\n",
      "number_of_tweet    76 non-null int64\n",
      "avg_score          76 non-null float64\n",
      "standard_dev       76 non-null float64\n",
      "dtypes: float64(3), int64(3), object(5)\n",
      "memory usage: 7.1+ KB\n"
     ]
    }
   ],
   "source": [
    "lu.info()"
   ]
  },
  {
   "cell_type": "code",
   "execution_count": 49,
   "metadata": {},
   "outputs": [],
   "source": [
    "up_down = []\n",
    "for row in lu['prices']:\n",
    "    if(row > 0):\n",
    "        up_down.append(1)\n",
    "    else:\n",
    "        up_down.append(0)\n",
    "        \n",
    "spread = []\n",
    "for row in lu['standard_dev']:\n",
    "    if(row > 1.5):\n",
    "        spread.append(1)\n",
    "    else:\n",
    "        spread.append(0)\n",
    "        \n",
    "score = []\n",
    "for row in lu['avg_score']:\n",
    "    if(row > 0.5):\n",
    "        score.append(1)\n",
    "    else:\n",
    "        score.append(0)"
   ]
  },
  {
   "cell_type": "code",
   "execution_count": 50,
   "metadata": {},
   "outputs": [],
   "source": [
    "#lu['standard_dev_bin'] = spread\n",
    "lu['prices_bin'] = up_down\n",
    "#lu['score_bins'] = score"
   ]
  },
  {
   "cell_type": "code",
   "execution_count": 51,
   "metadata": {},
   "outputs": [],
   "source": [
    "features = np.array(lu['standard_dev']).reshape(-1,1)\n",
    "target = np.array(lu['prices_bin'])\n",
    "X = np.array(lu[['standard_dev']])\n",
    "y = np.array(lu['prices_bin'])"
   ]
  },
  {
   "cell_type": "code",
   "execution_count": 58,
   "metadata": {},
   "outputs": [],
   "source": [
    "features_train, features_test, target_train, target_test = train_test_split(features,\n",
    "                                                                            target, test_size = 0.2, random_state = 32)"
   ]
  },
  {
   "cell_type": "code",
   "execution_count": 59,
   "metadata": {},
   "outputs": [],
   "source": [
    "clf = GaussianNB()\n",
    "clf.fit(features_train, target_train)\n",
    "target_pred = clf.predict(features_test)"
   ]
  },
  {
   "cell_type": "code",
   "execution_count": 60,
   "metadata": {},
   "outputs": [
    {
     "data": {
      "text/plain": [
       "0.625"
      ]
     },
     "execution_count": 60,
     "metadata": {},
     "output_type": "execute_result"
    }
   ],
   "source": [
    "accuracy_score(target_test, target_pred)"
   ]
  },
  {
   "cell_type": "code",
   "execution_count": 55,
   "metadata": {},
   "outputs": [],
   "source": [
    "X_test = features_test\n",
    "y_test = target_test"
   ]
  },
  {
   "cell_type": "code",
   "execution_count": 56,
   "metadata": {},
   "outputs": [],
   "source": [
    "if len(X_test[y_test == 0]) / (len(X_test)*1.) > 0.5:\n",
    "    null_accuracy = len(X_test[y_test == 0]) / (len(X_test)*1.)\n",
    "else:\n",
    "    null_accuracy = 1. - (len(X_test[y_test == 0]) / (len(X_test)*1.))"
   ]
  },
  {
   "cell_type": "code",
   "execution_count": 61,
   "metadata": {},
   "outputs": [
    {
     "data": {
      "text/plain": [
       "0.5"
      ]
     },
     "execution_count": 61,
     "metadata": {},
     "output_type": "execute_result"
    }
   ],
   "source": [
    "null_accuracy"
   ]
  },
  {
   "cell_type": "code",
   "execution_count": 18,
   "metadata": {},
   "outputs": [
    {
     "name": "stderr",
     "output_type": "stream",
     "text": [
      "Using TensorFlow backend.\n"
     ]
    }
   ],
   "source": [
    "from keras.models import Sequential\n",
    "from keras.layers import Dense\n",
    "import numpy\n",
    "# fix random seed for reproducibility\n",
    "numpy.random.seed(7)"
   ]
  },
  {
   "cell_type": "code",
   "execution_count": 46,
   "metadata": {},
   "outputs": [],
   "source": [
    "test  = np.array([0.25, 0.50, 0.75]).reshape(-1,1)"
   ]
  },
  {
   "cell_type": "code",
   "execution_count": 47,
   "metadata": {},
   "outputs": [
    {
     "name": "stdout",
     "output_type": "stream",
     "text": [
      "[[0.25]\n",
      " [0.5 ]\n",
      " [0.75]]\n"
     ]
    },
    {
     "data": {
      "text/plain": [
       "array([0, 1, 0])"
      ]
     },
     "execution_count": 47,
     "metadata": {},
     "output_type": "execute_result"
    }
   ],
   "source": [
    "print(test)\n",
    "clf.predict(test)"
   ]
  },
  {
   "cell_type": "code",
   "execution_count": 48,
   "metadata": {},
   "outputs": [],
   "source": [
    "model = Sequential()\n",
    "model.add(Dense(12, input_dim=1, activation='relu'))\n",
    "model.add(Dense(8, activation='relu'))\n",
    "model.add(Dense(1, activation='sigmoid'))"
   ]
  },
  {
   "cell_type": "code",
   "execution_count": 49,
   "metadata": {},
   "outputs": [],
   "source": [
    "# Compile model\n",
    "model.compile(loss='binary_crossentropy', optimizer='adam', metrics=['accuracy'])"
   ]
  },
  {
   "cell_type": "code",
   "execution_count": 50,
   "metadata": {},
   "outputs": [
    {
     "name": "stdout",
     "output_type": "stream",
     "text": [
      "Epoch 1/150\n",
      "115/115 [==============================] - 0s 2ms/step - loss: 0.6945 - acc: 0.4957\n",
      "Epoch 2/150\n",
      "115/115 [==============================] - 0s 78us/step - loss: 0.6942 - acc: 0.4609\n",
      "Epoch 3/150\n",
      "115/115 [==============================] - 0s 116us/step - loss: 0.6940 - acc: 0.4522\n",
      "Epoch 4/150\n",
      "115/115 [==============================] - 0s 122us/step - loss: 0.6939 - acc: 0.4522\n",
      "Epoch 5/150\n",
      "115/115 [==============================] - 0s 205us/step - loss: 0.6938 - acc: 0.4609\n",
      "Epoch 6/150\n",
      "115/115 [==============================] - 0s 106us/step - loss: 0.6936 - acc: 0.4609\n",
      "Epoch 7/150\n",
      "115/115 [==============================] - 0s 183us/step - loss: 0.6935 - acc: 0.4522\n",
      "Epoch 8/150\n",
      "115/115 [==============================] - 0s 159us/step - loss: 0.6934 - acc: 0.4522\n",
      "Epoch 9/150\n",
      "115/115 [==============================] - 0s 165us/step - loss: 0.6934 - acc: 0.4609\n",
      "Epoch 10/150\n",
      "115/115 [==============================] - 0s 146us/step - loss: 0.6933 - acc: 0.4870\n",
      "Epoch 11/150\n",
      "115/115 [==============================] - 0s 170us/step - loss: 0.6933 - acc: 0.4609\n",
      "Epoch 12/150\n",
      "115/115 [==============================] - 0s 79us/step - loss: 0.6932 - acc: 0.4609\n",
      "Epoch 13/150\n",
      "115/115 [==============================] - 0s 141us/step - loss: 0.6932 - acc: 0.4696\n",
      "Epoch 14/150\n",
      "115/115 [==============================] - 0s 77us/step - loss: 0.6931 - acc: 0.5304\n",
      "Epoch 15/150\n",
      "115/115 [==============================] - 0s 73us/step - loss: 0.6931 - acc: 0.5043\n",
      "Epoch 16/150\n",
      "115/115 [==============================] - 0s 129us/step - loss: 0.6931 - acc: 0.5043\n",
      "Epoch 17/150\n",
      "115/115 [==============================] - 0s 134us/step - loss: 0.6930 - acc: 0.5043\n",
      "Epoch 18/150\n",
      "115/115 [==============================] - 0s 105us/step - loss: 0.6930 - acc: 0.5043\n",
      "Epoch 19/150\n",
      "115/115 [==============================] - 0s 148us/step - loss: 0.6931 - acc: 0.5043\n",
      "Epoch 20/150\n",
      "115/115 [==============================] - 0s 88us/step - loss: 0.6930 - acc: 0.5043\n",
      "Epoch 21/150\n",
      "115/115 [==============================] - 0s 95us/step - loss: 0.6931 - acc: 0.5043\n",
      "Epoch 22/150\n",
      "115/115 [==============================] - 0s 100us/step - loss: 0.6931 - acc: 0.5043\n",
      "Epoch 23/150\n",
      "115/115 [==============================] - 0s 141us/step - loss: 0.6930 - acc: 0.5043\n",
      "Epoch 24/150\n",
      "115/115 [==============================] - 0s 220us/step - loss: 0.6930 - acc: 0.5043\n",
      "Epoch 25/150\n",
      "115/115 [==============================] - 0s 195us/step - loss: 0.6930 - acc: 0.5043\n",
      "Epoch 26/150\n",
      "115/115 [==============================] - 0s 201us/step - loss: 0.6930 - acc: 0.5043\n",
      "Epoch 27/150\n",
      "115/115 [==============================] - 0s 197us/step - loss: 0.6930 - acc: 0.5478\n",
      "Epoch 28/150\n",
      "115/115 [==============================] - 0s 225us/step - loss: 0.6931 - acc: 0.5391\n",
      "Epoch 29/150\n",
      "115/115 [==============================] - 0s 171us/step - loss: 0.6930 - acc: 0.5478\n",
      "Epoch 30/150\n",
      "115/115 [==============================] - 0s 158us/step - loss: 0.6930 - acc: 0.5478\n",
      "Epoch 31/150\n",
      "115/115 [==============================] - 0s 236us/step - loss: 0.6929 - acc: 0.5478\n",
      "Epoch 32/150\n",
      "115/115 [==============================] - 0s 185us/step - loss: 0.6929 - acc: 0.5478\n",
      "Epoch 33/150\n",
      "115/115 [==============================] - 0s 108us/step - loss: 0.6929 - acc: 0.5478\n",
      "Epoch 34/150\n",
      "115/115 [==============================] - 0s 127us/step - loss: 0.6929 - acc: 0.5391\n",
      "Epoch 35/150\n",
      "115/115 [==============================] - 0s 157us/step - loss: 0.6929 - acc: 0.5391\n",
      "Epoch 36/150\n",
      "115/115 [==============================] - 0s 215us/step - loss: 0.6929 - acc: 0.5391\n",
      "Epoch 37/150\n",
      "115/115 [==============================] - 0s 111us/step - loss: 0.6928 - acc: 0.5391\n",
      "Epoch 38/150\n",
      "115/115 [==============================] - 0s 210us/step - loss: 0.6929 - acc: 0.5391\n",
      "Epoch 39/150\n",
      "115/115 [==============================] - 0s 215us/step - loss: 0.6929 - acc: 0.5391\n",
      "Epoch 40/150\n",
      "115/115 [==============================] - 0s 185us/step - loss: 0.6928 - acc: 0.5478\n",
      "Epoch 41/150\n",
      "115/115 [==============================] - 0s 137us/step - loss: 0.6928 - acc: 0.5391\n",
      "Epoch 42/150\n",
      "115/115 [==============================] - 0s 209us/step - loss: 0.6928 - acc: 0.5478\n",
      "Epoch 43/150\n",
      "115/115 [==============================] - 0s 159us/step - loss: 0.6928 - acc: 0.5565\n",
      "Epoch 44/150\n",
      "115/115 [==============================] - 0s 181us/step - loss: 0.6928 - acc: 0.5391\n",
      "Epoch 45/150\n",
      "115/115 [==============================] - 0s 116us/step - loss: 0.6928 - acc: 0.5391\n",
      "Epoch 46/150\n",
      "115/115 [==============================] - 0s 182us/step - loss: 0.6928 - acc: 0.5391\n",
      "Epoch 47/150\n",
      "115/115 [==============================] - 0s 143us/step - loss: 0.6928 - acc: 0.5565\n",
      "Epoch 48/150\n",
      "115/115 [==============================] - 0s 139us/step - loss: 0.6927 - acc: 0.5565\n",
      "Epoch 49/150\n",
      "115/115 [==============================] - 0s 184us/step - loss: 0.6927 - acc: 0.5565\n",
      "Epoch 50/150\n",
      "115/115 [==============================] - 0s 168us/step - loss: 0.6927 - acc: 0.5565\n",
      "Epoch 51/150\n",
      "115/115 [==============================] - 0s 203us/step - loss: 0.6927 - acc: 0.5391\n",
      "Epoch 52/150\n",
      "115/115 [==============================] - 0s 169us/step - loss: 0.6927 - acc: 0.5391\n",
      "Epoch 53/150\n",
      "115/115 [==============================] - 0s 95us/step - loss: 0.6927 - acc: 0.5391\n",
      "Epoch 54/150\n",
      "115/115 [==============================] - 0s 167us/step - loss: 0.6927 - acc: 0.5304\n",
      "Epoch 55/150\n",
      "115/115 [==============================] - 0s 97us/step - loss: 0.6927 - acc: 0.5391\n",
      "Epoch 56/150\n",
      "115/115 [==============================] - 0s 149us/step - loss: 0.6926 - acc: 0.5391\n",
      "Epoch 57/150\n",
      "115/115 [==============================] - 0s 187us/step - loss: 0.6926 - acc: 0.5391\n",
      "Epoch 58/150\n",
      "115/115 [==============================] - 0s 155us/step - loss: 0.6925 - acc: 0.5391\n",
      "Epoch 59/150\n",
      "115/115 [==============================] - 0s 112us/step - loss: 0.6925 - acc: 0.5391\n",
      "Epoch 60/150\n",
      "115/115 [==============================] - 0s 108us/step - loss: 0.6926 - acc: 0.5391\n",
      "Epoch 61/150\n",
      "115/115 [==============================] - 0s 123us/step - loss: 0.6925 - acc: 0.5391\n",
      "Epoch 62/150\n",
      "115/115 [==============================] - 0s 122us/step - loss: 0.6925 - acc: 0.5391\n",
      "Epoch 63/150\n",
      "115/115 [==============================] - 0s 94us/step - loss: 0.6925 - acc: 0.5391\n",
      "Epoch 64/150\n",
      "115/115 [==============================] - 0s 102us/step - loss: 0.6924 - acc: 0.5391\n",
      "Epoch 65/150\n",
      "115/115 [==============================] - 0s 94us/step - loss: 0.6925 - acc: 0.5391\n",
      "Epoch 66/150\n",
      "115/115 [==============================] - 0s 94us/step - loss: 0.6923 - acc: 0.5391\n",
      "Epoch 67/150\n",
      "115/115 [==============================] - 0s 131us/step - loss: 0.6924 - acc: 0.5478\n",
      "Epoch 68/150\n",
      "115/115 [==============================] - 0s 103us/step - loss: 0.6923 - acc: 0.5304\n",
      "Epoch 69/150\n",
      "115/115 [==============================] - 0s 110us/step - loss: 0.6924 - acc: 0.5478\n",
      "Epoch 70/150\n",
      "115/115 [==============================] - 0s 113us/step - loss: 0.6923 - acc: 0.5391\n",
      "Epoch 71/150\n",
      "115/115 [==============================] - 0s 86us/step - loss: 0.6923 - acc: 0.5391\n",
      "Epoch 72/150\n",
      "115/115 [==============================] - 0s 110us/step - loss: 0.6924 - acc: 0.5304\n",
      "Epoch 73/150\n",
      "115/115 [==============================] - 0s 106us/step - loss: 0.6922 - acc: 0.5478\n",
      "Epoch 74/150\n",
      "115/115 [==============================] - 0s 108us/step - loss: 0.6922 - acc: 0.5478\n",
      "Epoch 75/150\n",
      "115/115 [==============================] - 0s 111us/step - loss: 0.6922 - acc: 0.5391\n",
      "Epoch 76/150\n",
      "115/115 [==============================] - 0s 88us/step - loss: 0.6922 - acc: 0.5391\n",
      "Epoch 77/150\n",
      "115/115 [==============================] - 0s 119us/step - loss: 0.6921 - acc: 0.5391\n",
      "Epoch 78/150\n",
      "115/115 [==============================] - 0s 107us/step - loss: 0.6921 - acc: 0.5391\n",
      "Epoch 79/150\n",
      "115/115 [==============================] - 0s 85us/step - loss: 0.6921 - acc: 0.5391\n",
      "Epoch 80/150\n",
      "115/115 [==============================] - 0s 96us/step - loss: 0.6921 - acc: 0.5391\n",
      "Epoch 81/150\n",
      "115/115 [==============================] - 0s 79us/step - loss: 0.6920 - acc: 0.5391\n",
      "Epoch 82/150\n",
      "115/115 [==============================] - 0s 119us/step - loss: 0.6920 - acc: 0.5391\n",
      "Epoch 83/150\n",
      "115/115 [==============================] - 0s 124us/step - loss: 0.6920 - acc: 0.5391\n",
      "Epoch 84/150\n"
     ]
    },
    {
     "name": "stdout",
     "output_type": "stream",
     "text": [
      "115/115 [==============================] - 0s 88us/step - loss: 0.6920 - acc: 0.5391\n",
      "Epoch 85/150\n",
      "115/115 [==============================] - 0s 103us/step - loss: 0.6919 - acc: 0.5391\n",
      "Epoch 86/150\n",
      "115/115 [==============================] - 0s 152us/step - loss: 0.6919 - acc: 0.5391\n",
      "Epoch 87/150\n",
      "115/115 [==============================] - 0s 113us/step - loss: 0.6918 - acc: 0.5391\n",
      "Epoch 88/150\n",
      "115/115 [==============================] - 0s 91us/step - loss: 0.6918 - acc: 0.5391\n",
      "Epoch 89/150\n",
      "115/115 [==============================] - 0s 90us/step - loss: 0.6918 - acc: 0.5304\n",
      "Epoch 90/150\n",
      "115/115 [==============================] - 0s 121us/step - loss: 0.6917 - acc: 0.5391\n",
      "Epoch 91/150\n",
      "115/115 [==============================] - 0s 105us/step - loss: 0.6917 - acc: 0.5391\n",
      "Epoch 92/150\n",
      "115/115 [==============================] - 0s 76us/step - loss: 0.6917 - acc: 0.5391\n",
      "Epoch 93/150\n",
      "115/115 [==============================] - 0s 106us/step - loss: 0.6916 - acc: 0.5391\n",
      "Epoch 94/150\n",
      "115/115 [==============================] - 0s 114us/step - loss: 0.6916 - acc: 0.5391\n",
      "Epoch 95/150\n",
      "115/115 [==============================] - 0s 105us/step - loss: 0.6916 - acc: 0.5391\n",
      "Epoch 96/150\n",
      "115/115 [==============================] - 0s 93us/step - loss: 0.6916 - acc: 0.5391\n",
      "Epoch 97/150\n",
      "115/115 [==============================] - 0s 87us/step - loss: 0.6916 - acc: 0.5304\n",
      "Epoch 98/150\n",
      "115/115 [==============================] - 0s 100us/step - loss: 0.6915 - acc: 0.5391\n",
      "Epoch 99/150\n",
      "115/115 [==============================] - 0s 111us/step - loss: 0.6915 - acc: 0.5478\n",
      "Epoch 100/150\n",
      "115/115 [==============================] - 0s 121us/step - loss: 0.6915 - acc: 0.5391\n",
      "Epoch 101/150\n",
      "115/115 [==============================] - 0s 138us/step - loss: 0.6914 - acc: 0.5391\n",
      "Epoch 102/150\n",
      "115/115 [==============================] - 0s 90us/step - loss: 0.6914 - acc: 0.5391\n",
      "Epoch 103/150\n",
      "115/115 [==============================] - 0s 104us/step - loss: 0.6914 - acc: 0.5391\n",
      "Epoch 104/150\n",
      "115/115 [==============================] - 0s 96us/step - loss: 0.6913 - acc: 0.5391\n",
      "Epoch 105/150\n",
      "115/115 [==============================] - 0s 90us/step - loss: 0.6912 - acc: 0.5391\n",
      "Epoch 106/150\n",
      "115/115 [==============================] - 0s 103us/step - loss: 0.6913 - acc: 0.5391\n",
      "Epoch 107/150\n",
      "115/115 [==============================] - 0s 117us/step - loss: 0.6912 - acc: 0.5391\n",
      "Epoch 108/150\n",
      "115/115 [==============================] - 0s 112us/step - loss: 0.6912 - acc: 0.5391\n",
      "Epoch 109/150\n",
      "115/115 [==============================] - 0s 102us/step - loss: 0.6912 - acc: 0.5391\n",
      "Epoch 110/150\n",
      "115/115 [==============================] - 0s 77us/step - loss: 0.6912 - acc: 0.5391\n",
      "Epoch 111/150\n",
      "115/115 [==============================] - 0s 118us/step - loss: 0.6911 - acc: 0.5391\n",
      "Epoch 112/150\n",
      "115/115 [==============================] - 0s 110us/step - loss: 0.6910 - acc: 0.5391\n",
      "Epoch 113/150\n",
      "115/115 [==============================] - 0s 98us/step - loss: 0.6910 - acc: 0.5304\n",
      "Epoch 114/150\n",
      "115/115 [==============================] - 0s 106us/step - loss: 0.6910 - acc: 0.5304\n",
      "Epoch 115/150\n",
      "115/115 [==============================] - 0s 108us/step - loss: 0.6909 - acc: 0.5391\n",
      "Epoch 116/150\n",
      "115/115 [==============================] - 0s 112us/step - loss: 0.6909 - acc: 0.5391\n",
      "Epoch 117/150\n",
      "115/115 [==============================] - 0s 95us/step - loss: 0.6908 - acc: 0.5391\n",
      "Epoch 118/150\n",
      "115/115 [==============================] - 0s 115us/step - loss: 0.6908 - acc: 0.5391\n",
      "Epoch 119/150\n",
      "115/115 [==============================] - 0s 99us/step - loss: 0.6908 - acc: 0.5391\n",
      "Epoch 120/150\n",
      "115/115 [==============================] - 0s 99us/step - loss: 0.6908 - acc: 0.5391\n",
      "Epoch 121/150\n",
      "115/115 [==============================] - 0s 110us/step - loss: 0.6907 - acc: 0.5391\n",
      "Epoch 122/150\n",
      "115/115 [==============================] - 0s 119us/step - loss: 0.6906 - acc: 0.5304\n",
      "Epoch 123/150\n",
      "115/115 [==============================] - 0s 91us/step - loss: 0.6908 - acc: 0.5391\n",
      "Epoch 124/150\n",
      "115/115 [==============================] - 0s 93us/step - loss: 0.6906 - acc: 0.5391\n",
      "Epoch 125/150\n",
      "115/115 [==============================] - 0s 97us/step - loss: 0.6905 - acc: 0.5391\n",
      "Epoch 126/150\n",
      "115/115 [==============================] - 0s 121us/step - loss: 0.6905 - acc: 0.5391\n",
      "Epoch 127/150\n",
      "115/115 [==============================] - 0s 119us/step - loss: 0.6905 - acc: 0.5391\n",
      "Epoch 128/150\n",
      "115/115 [==============================] - 0s 120us/step - loss: 0.6904 - acc: 0.5304\n",
      "Epoch 129/150\n",
      "115/115 [==============================] - 0s 92us/step - loss: 0.6904 - acc: 0.5304\n",
      "Epoch 130/150\n",
      "115/115 [==============================] - 0s 97us/step - loss: 0.6905 - acc: 0.5304\n",
      "Epoch 131/150\n",
      "115/115 [==============================] - 0s 112us/step - loss: 0.6904 - acc: 0.5478\n",
      "Epoch 132/150\n",
      "115/115 [==============================] - 0s 91us/step - loss: 0.6903 - acc: 0.5391\n",
      "Epoch 133/150\n",
      "115/115 [==============================] - 0s 99us/step - loss: 0.6902 - acc: 0.5391\n",
      "Epoch 134/150\n",
      "115/115 [==============================] - 0s 104us/step - loss: 0.6903 - acc: 0.5391\n",
      "Epoch 135/150\n",
      "115/115 [==============================] - 0s 97us/step - loss: 0.6901 - acc: 0.5391\n",
      "Epoch 136/150\n",
      "115/115 [==============================] - 0s 110us/step - loss: 0.6901 - acc: 0.5304\n",
      "Epoch 137/150\n",
      "115/115 [==============================] - 0s 94us/step - loss: 0.6902 - acc: 0.5304\n",
      "Epoch 138/150\n",
      "115/115 [==============================] - 0s 86us/step - loss: 0.6901 - acc: 0.5391\n",
      "Epoch 139/150\n",
      "115/115 [==============================] - 0s 123us/step - loss: 0.6900 - acc: 0.5391\n",
      "Epoch 140/150\n",
      "115/115 [==============================] - 0s 98us/step - loss: 0.6900 - acc: 0.5304\n",
      "Epoch 141/150\n",
      "115/115 [==============================] - 0s 94us/step - loss: 0.6899 - acc: 0.5304\n",
      "Epoch 142/150\n",
      "115/115 [==============================] - 0s 97us/step - loss: 0.6900 - acc: 0.5391\n",
      "Epoch 143/150\n",
      "115/115 [==============================] - 0s 113us/step - loss: 0.6899 - acc: 0.5304\n",
      "Epoch 144/150\n",
      "115/115 [==============================] - 0s 101us/step - loss: 0.6899 - acc: 0.5304\n",
      "Epoch 145/150\n",
      "115/115 [==============================] - 0s 94us/step - loss: 0.6898 - acc: 0.5391\n",
      "Epoch 146/150\n",
      "115/115 [==============================] - 0s 120us/step - loss: 0.6898 - acc: 0.5391\n",
      "Epoch 147/150\n",
      "115/115 [==============================] - 0s 161us/step - loss: 0.6898 - acc: 0.5391\n",
      "Epoch 148/150\n",
      "115/115 [==============================] - 0s 103us/step - loss: 0.6898 - acc: 0.5391\n",
      "Epoch 149/150\n",
      "115/115 [==============================] - 0s 166us/step - loss: 0.6897 - acc: 0.5304\n",
      "Epoch 150/150\n",
      "115/115 [==============================] - 0s 179us/step - loss: 0.6896 - acc: 0.5391\n"
     ]
    },
    {
     "data": {
      "text/plain": [
       "<keras.callbacks.History at 0x7f485c4bd7f0>"
      ]
     },
     "execution_count": 50,
     "metadata": {},
     "output_type": "execute_result"
    }
   ],
   "source": [
    "model.fit(X, y, epochs=150, batch_size=10)"
   ]
  },
  {
   "cell_type": "code",
   "execution_count": 51,
   "metadata": {},
   "outputs": [
    {
     "name": "stdout",
     "output_type": "stream",
     "text": [
      "115/115 [==============================] - 0s 514us/step\n",
      "\n",
      "acc: 53.91%\n"
     ]
    }
   ],
   "source": [
    "scores = model.evaluate(X, y)\n",
    "print(\"\\n%s: %.2f%%\" % (model.metrics_names[1], scores[1]*100))"
   ]
  },
  {
   "cell_type": "code",
   "execution_count": 52,
   "metadata": {},
   "outputs": [
    {
     "data": {
      "text/plain": [
       "array([[0.5089218 ],\n",
       "       [0.5089218 ],\n",
       "       [0.5089218 ],\n",
       "       [0.5089218 ],\n",
       "       [0.5089218 ],\n",
       "       [0.5089218 ],\n",
       "       [0.5089218 ],\n",
       "       [0.5089218 ],\n",
       "       [0.5089218 ],\n",
       "       [0.5089218 ],\n",
       "       [0.5089218 ],\n",
       "       [0.5089218 ],\n",
       "       [0.5089218 ],\n",
       "       [0.5089218 ],\n",
       "       [0.5089218 ],\n",
       "       [0.48673558],\n",
       "       [0.5089218 ],\n",
       "       [0.5089218 ],\n",
       "       [0.5089218 ],\n",
       "       [0.5089218 ],\n",
       "       [0.5089218 ],\n",
       "       [0.50799793],\n",
       "       [0.5089218 ],\n",
       "       [0.5089218 ],\n",
       "       [0.5089218 ],\n",
       "       [0.5089218 ],\n",
       "       [0.5089218 ],\n",
       "       [0.5043566 ],\n",
       "       [0.5089218 ],\n",
       "       [0.5089218 ],\n",
       "       [0.5089218 ],\n",
       "       [0.50619274],\n",
       "       [0.5089218 ],\n",
       "       [0.5089218 ],\n",
       "       [0.5089218 ],\n",
       "       [0.5089218 ],\n",
       "       [0.5089218 ],\n",
       "       [0.5089218 ],\n",
       "       [0.5035156 ],\n",
       "       [0.5089218 ],\n",
       "       [0.48976547],\n",
       "       [0.5089218 ],\n",
       "       [0.5089218 ],\n",
       "       [0.5085818 ],\n",
       "       [0.5089218 ],\n",
       "       [0.5089218 ],\n",
       "       [0.5089218 ],\n",
       "       [0.5089218 ],\n",
       "       [0.5089218 ],\n",
       "       [0.5089218 ],\n",
       "       [0.5089218 ],\n",
       "       [0.5089218 ],\n",
       "       [0.5089218 ],\n",
       "       [0.5089218 ],\n",
       "       [0.5089218 ],\n",
       "       [0.5089218 ],\n",
       "       [0.5089218 ],\n",
       "       [0.5089218 ],\n",
       "       [0.5089218 ],\n",
       "       [0.5089218 ],\n",
       "       [0.5033865 ],\n",
       "       [0.5089218 ],\n",
       "       [0.5089218 ],\n",
       "       [0.5061095 ],\n",
       "       [0.5089218 ],\n",
       "       [0.5089218 ],\n",
       "       [0.49358058],\n",
       "       [0.50691825],\n",
       "       [0.5089218 ],\n",
       "       [0.49829113],\n",
       "       [0.48705062],\n",
       "       [0.5089218 ],\n",
       "       [0.5089218 ],\n",
       "       [0.5089218 ],\n",
       "       [0.5041761 ],\n",
       "       [0.47793922],\n",
       "       [0.5089218 ],\n",
       "       [0.5089218 ],\n",
       "       [0.5089218 ],\n",
       "       [0.5089218 ],\n",
       "       [0.5089218 ],\n",
       "       [0.50472337],\n",
       "       [0.4901418 ],\n",
       "       [0.5089218 ],\n",
       "       [0.45789889],\n",
       "       [0.45789889],\n",
       "       [0.45789889],\n",
       "       [0.45789889],\n",
       "       [0.45789889],\n",
       "       [0.45789889],\n",
       "       [0.45789889],\n",
       "       [0.5089218 ],\n",
       "       [0.45789889],\n",
       "       [0.4979992 ],\n",
       "       [0.49271092],\n",
       "       [0.45789889],\n",
       "       [0.45789889],\n",
       "       [0.5089218 ],\n",
       "       [0.5003486 ],\n",
       "       [0.45789889],\n",
       "       [0.5089218 ],\n",
       "       [0.45789889],\n",
       "       [0.45789889],\n",
       "       [0.5089218 ],\n",
       "       [0.5089218 ],\n",
       "       [0.5089218 ],\n",
       "       [0.5089218 ],\n",
       "       [0.5089218 ],\n",
       "       [0.5089218 ],\n",
       "       [0.5089218 ],\n",
       "       [0.5089218 ],\n",
       "       [0.5089218 ],\n",
       "       [0.5089218 ],\n",
       "       [0.5089218 ],\n",
       "       [0.5089218 ]], dtype=float32)"
      ]
     },
     "execution_count": 52,
     "metadata": {},
     "output_type": "execute_result"
    }
   ],
   "source": [
    "model.predict([X])"
   ]
  },
  {
   "cell_type": "code",
   "execution_count": 26,
   "metadata": {},
   "outputs": [],
   "source": [
    "import matplotlib as plt\n",
    "import pandas as pd\n",
    "import matplotlib.pyplot as plt\n",
    "import seaborn as sns"
   ]
  },
  {
   "cell_type": "code",
   "execution_count": 27,
   "metadata": {},
   "outputs": [],
   "source": [
    "def heatMap(df):\n",
    "    #Create Correlation df\n",
    "    corr = df.corr()\n",
    "    #Plot figsize\n",
    "    fig, ax = plt.subplots(figsize=(5, 5))\n",
    "    #Generate Color Map\n",
    "    colormap = sns.diverging_palette(220, 10, as_cmap=True)\n",
    "    #Generate Heat Map, allow annotations and place floats in map\n",
    "    sns.heatmap(corr, cmap=colormap, annot=True, fmt=\".2f\")\n",
    "    #Apply xticks\n",
    "    plt.xticks(range(len(corr.columns)), corr.columns);\n",
    "    #Apply yticks\n",
    "    plt.yticks(range(len(corr.columns)), corr.columns)\n",
    "    #show plot\n",
    "    plt.show()\n"
   ]
  },
  {
   "cell_type": "code",
   "execution_count": 31,
   "metadata": {},
   "outputs": [
    {
     "data": {
      "image/png": "[encoded data removed]",
      "text/plain": [
       "<Figure size 360x360 with 2 Axes>"
      ]
     },
     "metadata": {
      "needs_background": "light"
     },
     "output_type": "display_data"
    }
   ],
   "source": [
    "heatMap(lu[['standard_dev', 'avg_score', 'number_of_tweet', 'prices_bin']])"
   ]
  },
  {
   "cell_type": "code",
   "execution_count": null,
   "metadata": {},
   "outputs": [],
   "source": []
  },
  {
   "cell_type": "code",
   "execution_count": null,
   "metadata": {},
   "outputs": [],
   "source": []
  },
  {
   "cell_type": "code",
   "execution_count": null,
   "metadata": {},
   "outputs": [],
   "source": []
  },
  {
   "cell_type": "code",
   "execution_count": null,
   "metadata": {},
   "outputs": [],
   "source": []
  }
 ],
 "metadata": {
  "kernelspec": {
   "display_name": "Python 3",
   "language": "python",
   "name": "python3"
  },
  "language_info": {
   "codemirror_mode": {
    "name": "ipython",
    "version": 3
   },
   "file_extension": ".py",
   "mimetype": "text/x-python",
   "name": "python",
   "nbconvert_exporter": "python",
   "pygments_lexer": "ipython3",
   "version": "3.6.8"
  }
 },
 "nbformat": 4,
 "nbformat_minor": 2
}
